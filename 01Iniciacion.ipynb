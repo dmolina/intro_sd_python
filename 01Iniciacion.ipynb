{
 "cells": [
  {
   "cell_type": "markdown",
   "metadata": {},
   "source": [
    "# Introducción a Python\n",
    "----\n",
    "### En este Notebook realizaremos una presentación de los conceptos más importantes de Python.\n",
    "\n",
    "<img src=\"python.png\">\n",
    "\n",
    "## Datos de Python\n",
    "----\n",
    "+ Multiparadigma: POO, P. Estruturada, P. funcional y P. orientada a Aspectos\n",
    "+ Creado por Guido van Rossum en 1990\n",
    "\n",
    "<img src=\"guido.png\">\n",
    "\n",
    "+  Lenguaje modular y de alto nivel\n",
    "+ Lenguaje interpretado\n",
    "+  Su sintaxis es simple\n",
    "+ Multiplataforma\n",
    "+  Su nombre hace referencia al grupo inglés “The Monty Python”\n",
    "+ Muy adecuado para muchas tareas, en particular a nivel científico y en particular en ciencias de datos.\n",
    "+ Usado mucho en empresas conocidas: Dropbox, Instagram, Google.\n",
    "\n",
    "\n",
    "## Importante\n",
    "----\n",
    "> + **TIPADO DINÁMICO:** Esto significa que NO NECESITAMOS declarar previamente el tipo de dato de una variable, sino que su tipo se determinará en tiempo de ejecución"
   ]
  },
  {
   "cell_type": "markdown",
   "metadata": {},
   "source": [
    "# Empecemos desde el principio: Hello, World\n",
    "\n",
    "Empecemos desde el clásico."
   ]
  },
  {
   "cell_type": "code",
   "execution_count": 4,
   "metadata": {
    "collapsed": false
   },
   "outputs": [
    {
     "name": "stdout",
     "output_type": "stream",
     "text": [
      "Hello, world\n"
     ]
    }
   ],
   "source": [
    "print(\"Hello, world\")"
   ]
  },
  {
   "cell_type": "markdown",
   "metadata": {},
   "source": [
    "Eso ha sido fácil, en vez de hacer una clase, un static main, y un método podemos poner directamente la orden."
   ]
  },
  {
   "cell_type": "markdown",
   "metadata": {},
   "source": [
    "Python posee clases, pero no exige que todo sea una clase, se pueden programar ordenes directamente, o en funciones."
   ]
  },
  {
   "cell_type": "code",
   "execution_count": 7,
   "metadata": {
    "collapsed": false
   },
   "outputs": [
    {
     "name": "stdout",
     "output_type": "stream",
     "text": [
      "<class 'str'>\n",
      "<class 'int'>\n",
      "<class 'bool'>\n"
     ]
    }
   ],
   "source": [
    "tipo_texto = \"Esto es un texto\"\n",
    "tipo_numerico = 2\n",
    "tipo_boolean = False\n",
    "\n",
    "print(type(tipo_texto))\n",
    "print(type(tipo_numerico))\n",
    "print(type(tipo_boolean))"
   ]
  },
  {
   "cell_type": "markdown",
   "metadata": {},
   "source": [
    "> + **FUERTEMENTE TIPADO**: Lo cual quiere decir que No se puede tratar una variable como si fuera de otro tipo"
   ]
  },
  {
   "cell_type": "code",
   "execution_count": 8,
   "metadata": {
    "collapsed": false
   },
   "outputs": [
    {
     "ename": "TypeError",
     "evalue": "unsupported operand type(s) for +: 'int' and 'str'",
     "output_type": "error",
     "traceback": [
      "\u001b[1;31m---------------------------------------------------------------------------\u001b[0m",
      "\u001b[1;31mTypeError\u001b[0m                                 Traceback (most recent call last)",
      "\u001b[1;32m<ipython-input-8-38dec177725f>\u001b[0m in \u001b[0;36m<module>\u001b[1;34m()\u001b[0m\n\u001b[0;32m      1\u001b[0m \u001b[0mnumero\u001b[0m \u001b[1;33m=\u001b[0m \u001b[1;36m2\u001b[0m\u001b[1;33m\u001b[0m\u001b[0m\n\u001b[0;32m      2\u001b[0m \u001b[0mcadena\u001b[0m \u001b[1;33m=\u001b[0m \u001b[1;34m\"2\"\u001b[0m\u001b[1;33m\u001b[0m\u001b[0m\n\u001b[1;32m----> 3\u001b[1;33m \u001b[0mtotal\u001b[0m \u001b[1;33m=\u001b[0m \u001b[0mnumero\u001b[0m \u001b[1;33m+\u001b[0m \u001b[0mcadena\u001b[0m\u001b[1;33m\u001b[0m\u001b[0m\n\u001b[0m",
      "\u001b[1;31mTypeError\u001b[0m: unsupported operand type(s) for +: 'int' and 'str'"
     ]
    }
   ],
   "source": [
    "numero = 2\n",
    "cadena = \"2\"\n",
    "total = numero + cadena"
   ]
  },
  {
   "cell_type": "code",
   "execution_count": 10,
   "metadata": {
    "collapsed": false
   },
   "outputs": [
    {
     "name": "stdout",
     "output_type": "stream",
     "text": [
      "4\n"
     ]
    }
   ],
   "source": [
    "total = numero + int(cadena)\n",
    "print(total)"
   ]
  },
  {
   "cell_type": "markdown",
   "metadata": {},
   "source": [
    "> + **INDENTACIÓN**: La identación es significativa, pues es la manera de definir los bloques, aunque es recomendable utilizar 4 espacios. Si utilizamos un editor deberíamos configurarlo para que nos cambiara las tabulaciones por 4 espacios.\n"
   ]
  },
  {
   "cell_type": "code",
   "execution_count": 11,
   "metadata": {
    "collapsed": false
   },
   "outputs": [
    {
     "name": "stdout",
     "output_type": "stream",
     "text": [
      "miguel\n",
      "miguel\n",
      "miguel\n",
      "miguel\n",
      "luis\n"
     ]
    }
   ],
   "source": [
    "for i in range(4):\n",
    "    print(\"miguel\")\n",
    "print(\"luis\")"
   ]
  },
  {
   "cell_type": "code",
   "execution_count": 14,
   "metadata": {
    "collapsed": false
   },
   "outputs": [
    {
     "name": "stdout",
     "output_type": "stream",
     "text": [
      "miguel\n",
      "luis\n",
      "miguel\n",
      "luis\n",
      "miguel\n",
      "luis\n",
      "miguel\n",
      "luis\n"
     ]
    }
   ],
   "source": [
    "for i in range(4):\n",
    "    print(\"miguel\")\n",
    "    print(\"luis\")"
   ]
  },
  {
   "cell_type": "markdown",
   "metadata": {},
   "source": [
    "## Ficheros y ejecución\n",
    "----\n",
    "**Ejecución**\n",
    "> + **Modo comando**: Se invoca escribiendo el fichero python o ipython. Los resultados se producen de manera interactiva. Se suele utilizar para hacer pruebas\n",
    "> + **Modo guión** Se crea el guión en un fichero con la extensión *.py*\n",
    "\n",
    "**Instalación**\n",
    "> + **Ubuntu** viene instalado por defecto aunque se recomienda la instalación de ipython, *sudo apt-get install ipython*\n",
    "\n",
    "**Herramientas**\n",
    "> + **PIP** es una herramienta que sirve para descargar librerias desde el repositorio Pypi, para eso debemos instalarlo de la siguiente manera *sudo apt-get install python-pip  *"
   ]
  }
 ],
 "metadata": {
  "kernelspec": {
   "display_name": "Python 3",
   "language": "python",
   "name": "python3"
  },
  "language_info": {
   "codemirror_mode": {
    "name": "ipython",
    "version": 3
   },
   "file_extension": ".py",
   "mimetype": "text/x-python",
   "name": "python",
   "nbconvert_exporter": "python",
   "pygments_lexer": "ipython3",
   "version": "3.4.3"
  }
 },
 "nbformat": 4,
 "nbformat_minor": 0
}
