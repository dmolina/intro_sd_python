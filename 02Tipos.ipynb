{
 "cells": [
  {
   "cell_type": "markdown",
   "metadata": {},
   "source": [
    "# Tipos de datos\n",
    "----\n",
    "### En este Notebook veremos los distintos tipos de datos y como trabajar con ellos\n",
    "\n",
    "\n",
    "## Tipos básicos\n",
    "> **Caracteres**"
   ]
  },
  {
   "cell_type": "code",
   "execution_count": 35,
   "metadata": {
    "collapsed": false
   },
   "outputs": [
    {
     "name": "stdout",
     "output_type": "stream",
     "text": [
      "<class 'str'>\n"
     ]
    }
   ],
   "source": [
    "a = \"Hola Mundo\"\n",
    "print(type(a))"
   ]
  },
  {
   "cell_type": "markdown",
   "metadata": {},
   "source": [
    "> **Números**"
   ]
  },
  {
   "cell_type": "code",
   "execution_count": 36,
   "metadata": {
    "collapsed": false
   },
   "outputs": [
    {
     "name": "stdout",
     "output_type": "stream",
     "text": [
      "<class 'int'>\n",
      "<class 'float'>\n",
      "<class 'complex'>\n"
     ]
    }
   ],
   "source": [
    "#Enteros\n",
    "a = 3\n",
    "print(type (a))\n",
    "\n",
    "#Reales\n",
    "b = 3.0\n",
    "print(type (b))\n",
    "\n",
    "#Complejos\n",
    "c = 2+2j\n",
    "print(type(c))\n",
    "\n"
   ]
  },
  {
   "cell_type": "markdown",
   "metadata": {},
   "source": [
    "> ** Booleanos**"
   ]
  },
  {
   "cell_type": "code",
   "execution_count": 37,
   "metadata": {
    "collapsed": false
   },
   "outputs": [
    {
     "name": "stdout",
     "output_type": "stream",
     "text": [
      "<class 'bool'>\n",
      "<class 'bool'>\n"
     ]
    }
   ],
   "source": [
    "a = True\n",
    "b = False\n",
    "print(type(a))\n",
    "print(type(b))"
   ]
  },
  {
   "cell_type": "markdown",
   "metadata": {},
   "source": [
    "> # ** LISTAS (Actualizables)**\n",
    "> Básicamente, una lista es una colección ordenada de objetos, similar al array dinámico empleado en otros lenguajes de programación. Puede contener distintos tipos de objetos, es mutable y Python nos ofrece una serie de funciones y métodos integrados para realizar diferentes tipos de operaciones. Para definir una lista se utilizan corchetes **[ ]** entre los cuales pueden aparecer diferentes valores separados por comas. \n",
    "\n"
   ]
  },
  {
   "cell_type": "code",
   "execution_count": 38,
   "metadata": {
    "collapsed": false
   },
   "outputs": [
    {
     "data": {
      "text/plain": [
       "['uno', 'dos', 'tres']"
      ]
     },
     "execution_count": 38,
     "metadata": {},
     "output_type": "execute_result"
    }
   ],
   "source": [
    "lista = [\"uno\", \"dos\", \"tres\"]\n",
    "lista"
   ]
  },
  {
   "cell_type": "markdown",
   "metadata": {},
   "source": [
    "> La principal diferencia con los array dinámicos de otros lenguajes, **es que las listas en python permiten almacenar datos de diferentes tipos** en cada una de las posiciones de esta.\n"
   ]
  },
  {
   "cell_type": "code",
   "execution_count": 39,
   "metadata": {
    "collapsed": false
   },
   "outputs": [
    {
     "data": {
      "text/plain": [
       "['uno', 2, 'tres']"
      ]
     },
     "execution_count": 39,
     "metadata": {},
     "output_type": "execute_result"
    }
   ],
   "source": [
    "lista_mixta = [\"uno\", 2, \"tres\"]\n",
    "lista_mixta"
   ]
  },
  {
   "cell_type": "markdown",
   "metadata": {},
   "source": [
    "> Las listas son iterables, es decir, podemos recorrer sus elementos empleando un bucle"
   ]
  },
  {
   "cell_type": "code",
   "execution_count": 40,
   "metadata": {
    "collapsed": false
   },
   "outputs": [
    {
     "name": "stdout",
     "output_type": "stream",
     "text": [
      "uno\n",
      "2\n",
      "tres\n"
     ]
    }
   ],
   "source": [
    "for elemento in lista_mixta:\n",
    "    print(elemento)"
   ]
  },
  {
   "cell_type": "markdown",
   "metadata": {},
   "source": [
    "> Las listas pueden ser accedidas y modificados mediante su indice, empezando desde 0"
   ]
  },
  {
   "cell_type": "code",
   "execution_count": 41,
   "metadata": {
    "collapsed": false
   },
   "outputs": [
    {
     "name": "stdout",
     "output_type": "stream",
     "text": [
      "['uno', 2, 'tres']\n",
      "2\n",
      "['uno', 'dos', 'tres']\n"
     ]
    }
   ],
   "source": [
    "print(lista_mixta)\n",
    "print(lista_mixta[1])\n",
    "lista_mixta[1] = \"dos\"\n",
    "print(lista_mixta)"
   ]
  },
  {
   "cell_type": "markdown",
   "metadata": {},
   "source": [
    "> ** OPERADORES DE LISTA **\n"
   ]
  },
  {
   "cell_type": "code",
   "execution_count": 42,
   "metadata": {
    "collapsed": false
   },
   "outputs": [
    {
     "name": "stdout",
     "output_type": "stream",
     "text": [
      "\n",
      "Usando el operador +\n",
      "[1, 2, 3, 4, 5, 6]\n",
      "[1, 2, 3]\n",
      "[4, 5, 6]\n",
      "\n",
      "Usando el operador extend()\n",
      "[1, 2, 3, 4, 5, 6]\n",
      "[4, 5, 6]\n",
      "\n",
      "Usando in\n",
      "True\n",
      "False\n",
      "\n",
      "Usando +=\n",
      "[1, 2, 3, 4, 5, 6]\n",
      "[1, 2, 3, 4, 5, 6, 9]\n",
      "\n",
      "Usando *\n",
      "[1, 2]\n",
      "[1, 2, 1, 2, 1, 2]\n"
     ]
    }
   ],
   "source": [
    "# +: Se pueden concatenar con el operador +\n",
    "print(\"\\nUsando el operador +\")\n",
    "lista_uno =  [1, 2, 3]\n",
    "lista_dos = [4, 5, 6]\n",
    "lista_final = lista_uno + lista_dos\n",
    "print(lista_final)\n",
    "print(lista_uno)\n",
    "print(lista_dos)\n",
    "\n",
    "# extend: Podemos utilizar extend para ampliar una lista existente\n",
    "lista_uno.extend(lista_dos)\n",
    "print(\"\\nUsando el operador extend()\")\n",
    "print(lista_uno)\n",
    "print(lista_dos)\n",
    "\n",
    "# in: Utilizamos in para saber si un elemento pertenece a una lista\n",
    "print(\"\\nUsando in\")\n",
    "print(3 in lista_uno)\n",
    "print(3 in lista_dos)\n",
    "\n",
    "# +=: Utilizamos para añadir a una lista\n",
    "print(\"\\nUsando +=\")\n",
    "print(lista_uno)\n",
    "lista_uno += [9]\n",
    "print(lista_uno)\n",
    "\n",
    "# *: Funciona como un operador repetidor en las listas\n",
    "print(\"\\nUsando *\")\n",
    "lista = [1, 2]\n",
    "print(lista)\n",
    "lista = lista *3\n",
    "print(lista)\n",
    "\n"
   ]
  },
  {
   "cell_type": "markdown",
   "metadata": {},
   "source": [
    "> Otros operadores de listas\n",
    "> + **append(object)**: Añade un objeto al final de la lista.\n",
    "> + **count(value)**: Devuelve el número de veces que se encontró value.\n",
    "> + **extend([iterable])**: Añade al final de la lista el contenido de la lista “iterable”.\n",
    "> + **insert (index, object )**: Inserta el objeto a la lista en la posición index.\n",
    "> + **pop(index)**: Devuelve el valor de la posición index y lo elimina de la lista, si no se especifica la posición, se utiliza el último elemento de la lista.\n",
    "> + **remove(value)**: Eliminar la primera ocurrencia de value.\n",
    "> + **reverse()**: Invierte la lista. Esta función trabaja sobre la propia lista desde la que se invoca el método, no sobre una copia.\n",
    "\n",
    "\n",
    "> ##Trabajando con Rangos en listas\n",
    "> Una cursiosidad al trabajar con [], es que podemos definir porciones de elementos **[inicio, fin, salto]**. Una cursiosidad es que podemos utilizar número negativos para recorrer la lista en sentido inverso"
   ]
  },
  {
   "cell_type": "code",
   "execution_count": 43,
   "metadata": {
    "collapsed": false
   },
   "outputs": [
    {
     "name": "stdout",
     "output_type": "stream",
     "text": [
      "tres\n",
      "cuatro\n",
      "['dos', 'tres']\n",
      "['uno', 'tres']\n",
      "['uno', 'tres']\n",
      "['cuatro', 'tres', 'dos', 'uno']\n"
     ]
    }
   ],
   "source": [
    "lista = [\"uno\", \"dos\", \"tres\", \"cuatro\"]\n",
    "\n",
    "# Accediendo a un elemento\n",
    "print(lista [2])\n",
    "\n",
    "# Uso de sentido inverso\n",
    "print(lista [-1])\n",
    "\n",
    "# Uso de un rango\n",
    "print(lista [1:3])\n",
    "\n",
    "# Uso de un salto\n",
    "print(lista[0:3:2])\n",
    "print(lista[::2])\n",
    "print(lista [::-1])"
   ]
  },
  {
   "cell_type": "markdown",
   "metadata": {},
   "source": [
    "> ##**Listas por compresión **"
   ]
  },
  {
   "cell_type": "code",
   "execution_count": 44,
   "metadata": {
    "collapsed": false
   },
   "outputs": [
    {
     "name": "stdout",
     "output_type": "stream",
     "text": [
      "range(0, 10)\n",
      "[0, 2, 4, 6, 8, 10, 12, 14, 16, 18]\n",
      "[0, 4, 8, 12, 16]\n"
     ]
    }
   ],
   "source": [
    "lista = range(10)\n",
    "print(lista)\n",
    "\n",
    "#Si quisiéramos que la lista tenga los números multiplicados por 2, podríamos usar una lista por comprensión de la siguiente manera (explicar cada parte):\n",
    "lista = [ 2 * x for x in range(10)]\n",
    "print(lista)\n",
    "\n",
    "#Es posible añadir criterios sobre x, por ejemplo solo incluir elementos pares:\n",
    "lista = [ 2 * x for x in range(10) if x % 2 == 0]\n",
    "print(lista)\n"
   ]
  },
  {
   "cell_type": "markdown",
   "metadata": {},
   "source": [
    "> # ** TUPLAS**\n",
    "> Son listas inmutables después de su creación, van entre paréntesis y se les aplican conceptos de las listas.\n"
   ]
  },
  {
   "cell_type": "code",
   "execution_count": 45,
   "metadata": {
    "collapsed": false
   },
   "outputs": [
    {
     "name": "stdout",
     "output_type": "stream",
     "text": [
      "\n",
      " lista -> tupla\n",
      "['uno', 'dos', 'tres', 'cuatro']\n",
      "('uno', 'dos', 'tres', 'cuatro')\n",
      "\n",
      "tupla -> lista\n",
      "('uno', 'dos', 'tres', 'cuatro')\n",
      "['uno', 'dos', 'tres', 'cuatro']\n"
     ]
    }
   ],
   "source": [
    "# Podemos convertir una lista en tupla\n",
    "lista = [\"uno\", \"dos\", \"tres\", \"cuatro\"]\n",
    "tupla = tuple(lista)\n",
    "print(\"\\n lista -> tupla\")\n",
    "print(lista)\n",
    "print(tupla)\n",
    "\n",
    "# También podemos convertir una tupla en lista\n",
    "print(\"\\ntupla -> lista\")\n",
    "nueva_lista = list(tupla)\n",
    "print(tupla)\n",
    "print(nueva_lista)"
   ]
  },
  {
   "cell_type": "code",
   "execution_count": null,
   "metadata": {
    "collapsed": false
   },
   "outputs": [],
   "source": []
  },
  {
   "cell_type": "markdown",
   "metadata": {},
   "source": [
    "> # ** DICCIONARIO**\n",
    "> Asociación de valor-clave. Van entre llaves\n"
   ]
  },
  {
   "cell_type": "code",
   "execution_count": 46,
   "metadata": {
    "collapsed": false
   },
   "outputs": [
    {
     "name": "stdout",
     "output_type": "stream",
     "text": [
      "{'Dos': 2, 'Uno': 1}\n",
      "1\n",
      "\n",
      " Impresión de los valores\n",
      "dict_values([2, 1])\n",
      "\n",
      " Comprobar si tiene un determinado valor\n",
      "True\n",
      "False\n",
      "\n",
      " Quitar un valor\n",
      "{'Dos': 2}\n"
     ]
    }
   ],
   "source": [
    "d = {\"Uno\": 1, \"Dos\": 2}\n",
    "print(d)\n",
    "print(d[\"Uno\"])\n",
    "\n",
    "print(\"\\n Impresión de los valores\")\n",
    "print(d.values())\n",
    "\n",
    "print(\"\\n Comprobar si tiene un determinado valor\")\n",
    "print('Uno' in d)\n",
    "print('Tres' in d)\n",
    "\n",
    "print(\"\\n Quitar un valor\")\n",
    "d.pop(\"Uno\")\n",
    "print(d)"
   ]
  },
  {
   "cell_type": "code",
   "execution_count": null,
   "metadata": {
    "collapsed": false
   },
   "outputs": [],
   "source": []
  },
  {
   "cell_type": "markdown",
   "metadata": {},
   "source": [
    "> # ** OBJETO NONE**\n",
    "> Python proporciona un objeto especial llamado **None**, que siempre es considerado como falso. Se puede usar como comparador de valor nulo, con ** == None**. El valor **None** es util cuando no se desea especificar o asignar un valor y por consiguiente a su tipo. Al asignar 0 o \"\" una variable se creará de tipo **int** o tipo **str**"
   ]
  },
  {
   "cell_type": "code",
   "execution_count": 47,
   "metadata": {
    "collapsed": false
   },
   "outputs": [
    {
     "name": "stdout",
     "output_type": "stream",
     "text": [
      "El tipo de a: <class 'NoneType'>\n",
      "El tipo de b: <class 'str'>\n",
      "El tipo de c: <class 'int'>\n"
     ]
    }
   ],
   "source": [
    "a = None\n",
    "b = \"\"\n",
    "c = 0\n",
    "print(\"El tipo de a: \" + str(type(a)))\n",
    "print(\"El tipo de b: \" + str(type(b)))\n",
    "print(\"El tipo de c: \" + str(type(c)))\n",
    "\n"
   ]
  },
  {
   "cell_type": "code",
   "execution_count": null,
   "metadata": {
    "collapsed": false
   },
   "outputs": [],
   "source": []
  },
  {
   "cell_type": "code",
   "execution_count": null,
   "metadata": {
    "collapsed": false
   },
   "outputs": [],
   "source": []
  },
  {
   "cell_type": "code",
   "execution_count": null,
   "metadata": {
    "collapsed": false
   },
   "outputs": [],
   "source": []
  }
 ],
 "metadata": {
  "kernelspec": {
   "display_name": "Python 3",
   "language": "python",
   "name": "python3"
  },
  "language_info": {
   "codemirror_mode": {
    "name": "ipython",
    "version": 3
   },
   "file_extension": ".py",
   "mimetype": "text/x-python",
   "name": "python",
   "nbconvert_exporter": "python",
   "pygments_lexer": "ipython3",
   "version": "3.4.3"
  }
 },
 "nbformat": 4,
 "nbformat_minor": 0
}
