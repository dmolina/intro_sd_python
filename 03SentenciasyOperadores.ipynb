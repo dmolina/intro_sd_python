{
 "cells": [
  {
   "cell_type": "markdown",
   "metadata": {},
   "source": [
    "> Una sentencia es una instrucción que puede ejecutar el intérprete de Python.\n",
    "\n",
    "> ## ** Operadores Aritméticos **\n"
   ]
  },
  {
   "cell_type": "code",
   "execution_count": 6,
   "metadata": {
    "collapsed": false
   },
   "outputs": [
    {
     "name": "stdout",
     "output_type": "stream",
     "text": [
      "5\n",
      "-3\n",
      "12\n",
      "64\n",
      "1.5\n",
      "1.75\n",
      "1.0\n",
      "1\n"
     ]
    }
   ],
   "source": [
    "# Suma \n",
    "r = 3+2\n",
    "print(r)\n",
    "# Resta\n",
    "r = 4-7\n",
    "print(r)\n",
    "# Multiplicación\n",
    "r = 2*6\n",
    "print(r)\n",
    "# Exponente\n",
    "r = 2**6\n",
    "print(r)\n",
    "# División \n",
    "r = 3/2\n",
    "print(r)\n",
    "# División Decimal\n",
    "r = 3.5 / 2.0\n",
    "print(r)\n",
    "# División con redondeo\n",
    "r = 3.5//2\n",
    "print(r)\n",
    "# Módulo\n",
    "r = 7 % 2\n",
    "print(r)"
   ]
  },
  {
   "cell_type": "markdown",
   "metadata": {},
   "source": [
    "> ## ** Objetos **\n",
    "> En Python todo son objetos, las variables son **nombres** de esos objetos, y que pueden tener atributos y operaciones (métodos) asociados, según el tipo de objeto habrá unos atributos u otros."
   ]
  },
  {
   "cell_type": "code",
   "execution_count": 8,
   "metadata": {
    "collapsed": false
   },
   "outputs": [
    {
     "name": "stdout",
     "output_type": "stream",
     "text": [
      "HOLA MUNDO\n",
      "2\n"
     ]
    }
   ],
   "source": [
    "# Cadena como objeto\n",
    "cadena = \"Hola Mundo\"\n",
    "print(cadena.upper())\n",
    "print(cadena.count('o'))\n",
    "cadena.count?\n"
   ]
  },
  {
   "cell_type": "markdown",
   "metadata": {},
   "source": [
    "## ** Editor de iPython **\n",
    "> + Historial de comandos, que pueden ser navegadas con las teclas de flechas hacia arriba y abajo.\n",
    "Autocompletación de tabs.\n",
    "> + Edición de código en línea.\n",
    "> + Instrospección de objetos, y extracción automática de cadenas de documentación a partir de objetos Python como clases y funciones.\n",
    "> + Buena interacción con la línea de comandos del sistema operativo.\n",
    "> + Soporte de múltiples procesos paralelos back-end, que pueden ejecutarse en cluster computacionales o en servicios en la nube como Amazon EE2."
   ]
  },
  {
   "cell_type": "code",
   "execution_count": null,
   "metadata": {
    "collapsed": false
   },
   "outputs": [],
   "source": []
  },
  {
   "cell_type": "markdown",
   "metadata": {},
   "source": [
    "## ** Sentencias Pass y With **\n",
    "> Python incorpora una sentencia especial para indicar que no se debe realizar ninguna acción. Se trata de pass y especialmente útil cuando deseamos indicar que no se haga nada en una sentencia que requiere otra.\n",
    "> + **pass ** cuando indicamos queremos indicar que no se haga nada, por ejemplo para crear estructuras de códigos que luego iremos rellenando\n",
    "> + **with **  se utiliza con objetos que soportan el protocolo de manejador de contexto y garantiza que una o varias sentencias serán ejecutadas automáticamente. Esto nos ahorra muchas líneas de código, a la vez que nos garantiza que ciertas operaciones serán realizadas sin que lo indiquemos explícitamente\n"
   ]
  },
  {
   "cell_type": "code",
   "execution_count": 15,
   "metadata": {
    "collapsed": false
   },
   "outputs": [
    {
     "ename": "IndentationError",
     "evalue": "expected an indented block (<ipython-input-15-a7a26d4630a8>, line 4)",
     "output_type": "error",
     "traceback": [
      "\u001b[0;36m  File \u001b[0;32m\"<ipython-input-15-a7a26d4630a8>\"\u001b[0;36m, line \u001b[0;32m4\u001b[0m\n\u001b[0;31m    \u001b[0m\n\u001b[0m    ^\u001b[0m\n\u001b[0;31mIndentationError\u001b[0m\u001b[0;31m:\u001b[0m expected an indented block\n"
     ]
    }
   ],
   "source": [
    "# ejemplo de pass que va a fallar\n",
    "for i in range(5):\n",
    "\n",
    "print \"Despues del for\""
   ]
  },
  {
   "cell_type": "code",
   "execution_count": 5,
   "metadata": {
    "collapsed": false
   },
   "outputs": [
    {
     "name": "stdout",
     "output_type": "stream",
     "text": [
      "Despues del for\n"
     ]
    }
   ],
   "source": [
    "# ejemplo de pass que va a funcionar\n",
    "for i in range(5):\n",
    "    pass\n",
    "\n",
    "print(\"Despues del for\")\n"
   ]
  },
  {
   "cell_type": "code",
   "execution_count": 4,
   "metadata": {
    "collapsed": false
   },
   "outputs": [
    {
     "name": "stdout",
     "output_type": "stream",
     "text": [
      "Texto a mostrar.\n",
      "\n",
      "Segunda línea.\n",
      "\n"
     ]
    }
   ],
   "source": [
    "# ejemplo de with, debemos tener un fichero llamado texto.txt para que funcione correctamente.\n",
    "with open(r'texto.txt') as myfile:\n",
    "    for line in myfile:\n",
    "        print(line)"
   ]
  },
  {
   "cell_type": "markdown",
   "metadata": {},
   "source": [
    "## ** Editor de iPython **\n",
    "> + Historial de comandos, que pueden ser navegadas con las teclas de flechas hacia arriba y abajo.\n",
    "Autocompletación de tabs.\n",
    "> + Edición de código en línea.\n",
    "> + Instrospección de objetos, y extracción automática de cadenas de documentación a partir de objetos Python como clases y funciones.\n",
    "> + Buena interacción con la línea de comandos del sistema operativo.\n",
    "> + Soporte de múltiples procesos paralelos back-end, que pueden ejecutarse en cluster computacionales o en servicios en la nube como Amazon EE2."
   ]
  },
  {
   "cell_type": "markdown",
   "metadata": {},
   "source": [
    "## ** Módulos **\n",
    "> Existe agrupaciones de funciones y otros elementos de utilidad en lo que se conoce como \"módulos\". Es posible incluir un módulo de la siguiente manera:\n"
   ]
  },
  {
   "cell_type": "code",
   "execution_count": 1,
   "metadata": {
    "collapsed": false
   },
   "outputs": [],
   "source": [
    "import math\n",
    "\n",
    "#Con lo que podremos utilizar sus elementos utilizando la siguiente sintaxis:\n",
    "valor = math.factorial(5)\n",
    "\n",
    "#También es posible importar solo algunas partes de un módulo:\n",
    "from math import factorial\n",
    "valor = factorial(5)\n",
    "\n",
    "#El definirlo de una manera u otra es a la hora de no tener problemas con la definición de variables y funciones\n",
    "\n",
    "#También podemos importar módulos con un nombre distinto, por ejemplo:\n",
    "import numpy as np"
   ]
  },
  {
   "cell_type": "code",
   "execution_count": null,
   "metadata": {
    "collapsed": false
   },
   "outputs": [],
   "source": []
  }
 ],
 "metadata": {
  "kernelspec": {
   "display_name": "Python 3",
   "language": "python",
   "name": "python3"
  },
  "language_info": {
   "codemirror_mode": {
    "name": "ipython",
    "version": 3
   },
   "file_extension": ".py",
   "mimetype": "text/x-python",
   "name": "python",
   "nbconvert_exporter": "python",
   "pygments_lexer": "ipython3",
   "version": "3.4.3"
  }
 },
 "nbformat": 4,
 "nbformat_minor": 0
}
